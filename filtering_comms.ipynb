{
 "cells": [
  {
   "cell_type": "code",
   "execution_count": 3,
   "metadata": {},
   "outputs": [],
   "source": [
    "import codebase.analysis_functions as af\n",
    "import codebase.web_scrape_functions as wsf\n",
    "from codebase.match_data import MatchData\n",
    "import pandas as pd\n",
    "from utils import logger\n",
    "%load_ext autoreload\n",
    "%autoreload 2"
   ]
  },
  {
   "cell_type": "code",
   "execution_count": 4,
   "metadata": {},
   "outputs": [],
   "source": [
    "KOHLI_ID = 253802"
   ]
  },
  {
   "cell_type": "code",
   "execution_count": 5,
   "metadata": {},
   "outputs": [
    {
     "name": "stderr",
     "output_type": "stream",
     "text": [
      "2022-07-06 00:04:52,910 - INFO - Getting match list for player: 253802 Dates: None\n"
     ]
    }
   ],
   "source": [
    "match_list = wsf.get_player_match_list(KOHLI_ID)"
   ]
  },
  {
   "cell_type": "code",
   "execution_count": 7,
   "metadata": {},
   "outputs": [
    {
     "name": "stderr",
     "output_type": "stream",
     "text": [
      "2022-07-06 00:05:34,877 - INFO - Loading data from /Users/abhiramjoshi/Documents/Personal/cricket_analysis/data/match_jsons/489226_match_jsons.json\n",
      "2022-07-06 00:05:34,883 - INFO - Loading data from /Users/abhiramjoshi/Documents/Personal/cricket_analysis/data/htmls/489226_html.html\n",
      "2022-07-06 00:05:35,031 - INFO - Match ID 489226: Loading match comms\n",
      "2022-07-06 00:05:35,033 - INFO - Loading data from /Users/abhiramjoshi/Documents/Personal/cricket_analysis/data/full_comms/489226_full_comms.json\n"
     ]
    }
   ],
   "source": [
    "match_1 =  MatchData(match_list[0])"
   ]
  },
  {
   "cell_type": "code",
   "execution_count": 11,
   "metadata": {},
   "outputs": [],
   "source": [
    "match_1_comms = pd.DataFrame(match_1.get_full_comms())"
   ]
  },
  {
   "cell_type": "code",
   "execution_count": 18,
   "metadata": {},
   "outputs": [],
   "source": [
    "dismissal_commentary = match_1_comms[match_1_comms.dismissalType.notnull()].commentTextItems"
   ]
  },
  {
   "cell_type": "code",
   "execution_count": null,
   "metadata": {},
   "outputs": [],
   "source": [
    "#regex pattern to find cover drives"
   ]
  }
 ],
 "metadata": {
  "interpreter": {
   "hash": "4b197c8d3f1a7b23d60058f5babd2d2b6bf4eef2aa6210788b8639f50a6a79e7"
  },
  "kernelspec": {
   "display_name": "Python 3.9.12 ('cricket_analysis': venv)",
   "language": "python",
   "name": "python3"
  },
  "language_info": {
   "codemirror_mode": {
    "name": "ipython",
    "version": 3
   },
   "file_extension": ".py",
   "mimetype": "text/x-python",
   "name": "python",
   "nbconvert_exporter": "python",
   "pygments_lexer": "ipython3",
   "version": "3.9.12"
  },
  "orig_nbformat": 4
 },
 "nbformat": 4,
 "nbformat_minor": 2
}
