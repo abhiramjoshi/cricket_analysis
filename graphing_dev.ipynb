{
 "cells": [
  {
   "cell_type": "code",
   "execution_count": 1,
   "metadata": {},
   "outputs": [
    {
     "data": {
      "text/plain": [
       "20"
      ]
     },
     "execution_count": 1,
     "metadata": {},
     "output_type": "execute_result"
    }
   ],
   "source": [
    "import codebase.match_data as match\n",
    "import codebase.settings as settings\n",
    "import pandas as pd\n",
    "import numpy as np\n",
    "from pprint import pprint\n",
    "import matplotlib as plt\n",
    "import seaborn as sns\n",
    "import codebase.analysis_functions as af\n",
    "import codebase.web_scrape_functions as wsf\n",
    "from utils import logger\n",
    "import logging\n",
    "from espncricinfo import player\n",
    "import requests\n",
    "import utils\n",
    "from datetime import datetime \n",
    "from datetime import timedelta\n",
    "\n",
    "%load_ext autoreload\n",
    "%autoreload 2\n",
    "logger.handlers[1].setLevel(logging.INFO)\n",
    "# logger.disabled = True\n",
    "pd.get_option(\"display.max_columns\")"
   ]
  },
  {
   "cell_type": "code",
   "execution_count": 14,
   "metadata": {},
   "outputs": [],
   "source": [
    "def get_player_json(player_id):\n",
    "    response = requests.get(f\"http://core.espnuk.org/v2/sports/cricket/athletes/{player_id}\")\n",
    "    if response.status_code == 404:\n",
    "        raise utils.PlayerNotFoundError\n",
    "    else:\n",
    "        return response.json()"
   ]
  },
  {
   "cell_type": "code",
   "execution_count": 16,
   "metadata": {},
   "outputs": [
    {
     "data": {
      "text/plain": [
       "'1977-10-27T00:00Z'"
      ]
     },
     "execution_count": 16,
     "metadata": {},
     "output_type": "execute_result"
    }
   ],
   "source": [
    "sanga = get_player_json(50710)\n",
    "sanga['dateOfBirth']"
   ]
  },
  {
   "cell_type": "code",
   "execution_count": 22,
   "metadata": {},
   "outputs": [],
   "source": [
    "age = datetime.strptime(sanga['dateOfBirth'], '%Y-%m-%dT%H:%MZ')"
   ]
  },
  {
   "cell_type": "code",
   "execution_count": 25,
   "metadata": {},
   "outputs": [],
   "source": [
    "def get_player_age(player_id):\n",
    "    json = get_player_json(player_id)\n",
    "    age = datetime.strptime(json['dateOfBirth'], '%Y-%m-%dT%H:%MZ')\n",
    "    return age"
   ]
  },
  {
   "cell_type": "code",
   "execution_count": 26,
   "metadata": {},
   "outputs": [
    {
     "data": {
      "text/plain": [
       "datetime.datetime(1977, 10, 27, 0, 0)"
      ]
     },
     "execution_count": 26,
     "metadata": {},
     "output_type": "execute_result"
    }
   ],
   "source": [
    "get_player_age(50710)"
   ]
  },
  {
   "cell_type": "code",
   "execution_count": 29,
   "metadata": {},
   "outputs": [],
   "source": [
    "age = age.replace(year=age.year+30)"
   ]
  },
  {
   "cell_type": "code",
   "execution_count": 30,
   "metadata": {},
   "outputs": [
    {
     "data": {
      "text/plain": [
       "datetime.datetime(2007, 10, 27, 0, 0)"
      ]
     },
     "execution_count": 30,
     "metadata": {},
     "output_type": "execute_result"
    }
   ],
   "source": [
    "age"
   ]
  },
  {
   "cell_type": "code",
   "execution_count": 4,
   "metadata": {},
   "outputs": [
    {
     "name": "stderr",
     "output_type": "stream",
     "text": [
      "2022-06-16 23:43:21,807 - INFO - Getting match list for player, 50710\n",
      "2022-06-16 23:43:21,808 - INFO - Getting match list for player: 50710 Dates: 2007-10-27:2008-10-27\n",
      "2022-06-16 23:43:24,745 - INFO - Getting player contributions for 50710\n",
      "2022-06-16 23:43:24,746 - INFO - Getting player controbutions for match 291339\n",
      "2022-06-16 23:43:24,748 - INFO - Loading data from d:\\Documents\\Cricket\\data_analysis\\cricket_data_analysis\\data\\match_jsons\\291339_match_jsons.json\n",
      "2022-06-16 23:43:24,752 - INFO - Loading data from d:\\Documents\\Cricket\\data_analysis\\cricket_data_analysis\\data\\htmls\\291339_html.html\n",
      "2022-06-16 23:43:24,890 - INFO - Match ID 291339: Loading match comms\n",
      "2022-06-16 23:43:24,893 - INFO - Loading data from d:\\Documents\\Cricket\\data_analysis\\cricket_data_analysis\\data\\full_comms\\291339_full_comms.json\n",
      "2022-06-16 23:43:24,952 - INFO - Pre-transforming match commentary for 291339\n",
      "2022-06-16 23:43:24,985 - INFO - 291339: Processing text commentary fields\n",
      "2022-06-16 23:43:25,459 - INFO - 291339: Processing bowler runs\n",
      "d:\\Documents\\Cricket\\data_analysis\\cricket_data_analysis\\codebase\\analysis_functions.py:309: FutureWarning: Dropping of nuisance columns in DataFrame reductions (with 'numeric_only=None') is deprecated; in a future version this will raise TypeError.  Select only valid columns before calling the reduction.\n",
      "  batting_df_agg = batting_df[batting_df.batsmanPlayerId == player_id].sum()\n",
      "2022-06-16 23:43:25,530 - INFO - Getting player controbutions for match 291222\n",
      "2022-06-16 23:43:25,531 - INFO - Loading data from d:\\Documents\\Cricket\\data_analysis\\cricket_data_analysis\\data\\match_jsons\\291222_match_jsons.json\n",
      "2022-06-16 23:43:25,543 - INFO - Loading data from d:\\Documents\\Cricket\\data_analysis\\cricket_data_analysis\\data\\htmls\\291222_html.html\n",
      "2022-06-16 23:43:25,885 - INFO - Match ID 291222: Loading match comms\n",
      "2022-06-16 23:43:25,886 - INFO - Loading data from d:\\Documents\\Cricket\\data_analysis\\cricket_data_analysis\\data\\full_comms\\291222_full_comms.json\n",
      "2022-06-16 23:43:25,951 - INFO - Pre-transforming match commentary for 291222\n",
      "2022-06-16 23:43:25,987 - INFO - 291222: Processing text commentary fields\n",
      "2022-06-16 23:43:26,318 - INFO - 291222: Processing bowler runs\n",
      "d:\\Documents\\Cricket\\data_analysis\\cricket_data_analysis\\codebase\\analysis_functions.py:309: FutureWarning: Dropping of nuisance columns in DataFrame reductions (with 'numeric_only=None') is deprecated; in a future version this will raise TypeError.  Select only valid columns before calling the reduction.\n",
      "  batting_df_agg = batting_df[batting_df.batsmanPlayerId == player_id].sum()\n",
      "2022-06-16 23:43:26,384 - INFO - Getting player controbutions for match 291223\n",
      "2022-06-16 23:43:26,385 - INFO - Loading data from d:\\Documents\\Cricket\\data_analysis\\cricket_data_analysis\\data\\match_jsons\\291223_match_jsons.json\n",
      "2022-06-16 23:43:26,397 - INFO - Loading data from d:\\Documents\\Cricket\\data_analysis\\cricket_data_analysis\\data\\htmls\\291223_html.html\n",
      "2022-06-16 23:43:26,548 - INFO - Match ID 291223: Loading match comms\n",
      "2022-06-16 23:43:26,550 - INFO - Loading data from d:\\Documents\\Cricket\\data_analysis\\cricket_data_analysis\\data\\full_comms\\291223_full_comms.json\n",
      "2022-06-16 23:43:26,625 - INFO - Pre-transforming match commentary for 291223\n",
      "2022-06-16 23:43:26,655 - INFO - 291223: Processing text commentary fields\n",
      "2022-06-16 23:43:26,973 - INFO - 291223: Processing bowler runs\n",
      "d:\\Documents\\Cricket\\data_analysis\\cricket_data_analysis\\codebase\\analysis_functions.py:309: FutureWarning: Dropping of nuisance columns in DataFrame reductions (with 'numeric_only=None') is deprecated; in a future version this will raise TypeError.  Select only valid columns before calling the reduction.\n",
      "  batting_df_agg = batting_df[batting_df.batsmanPlayerId == player_id].sum()\n",
      "2022-06-16 23:43:27,006 - INFO - Getting player controbutions for match 291224\n",
      "2022-06-16 23:43:27,007 - INFO - Loading data from d:\\Documents\\Cricket\\data_analysis\\cricket_data_analysis\\data\\match_jsons\\291224_match_jsons.json\n",
      "2022-06-16 23:43:27,017 - INFO - Loading data from d:\\Documents\\Cricket\\data_analysis\\cricket_data_analysis\\data\\htmls\\291224_html.html\n",
      "2022-06-16 23:43:27,164 - INFO - Match ID 291224: Loading match comms\n",
      "2022-06-16 23:43:27,166 - INFO - Loading data from d:\\Documents\\Cricket\\data_analysis\\cricket_data_analysis\\data\\full_comms\\291224_full_comms.json\n",
      "2022-06-16 23:43:27,211 - INFO - Pre-transforming match commentary for 291224\n",
      "2022-06-16 23:43:27,234 - INFO - 291224: Processing text commentary fields\n",
      "2022-06-16 23:43:27,458 - INFO - 291224: Processing bowler runs\n",
      "d:\\Documents\\Cricket\\data_analysis\\cricket_data_analysis\\codebase\\analysis_functions.py:309: FutureWarning: Dropping of nuisance columns in DataFrame reductions (with 'numeric_only=None') is deprecated; in a future version this will raise TypeError.  Select only valid columns before calling the reduction.\n",
      "  batting_df_agg = batting_df[batting_df.batsmanPlayerId == player_id].sum()\n",
      "2022-06-16 23:43:27,492 - INFO - Getting player controbutions for match 319132\n",
      "2022-06-16 23:43:27,495 - INFO - Loading data from d:\\Documents\\Cricket\\data_analysis\\cricket_data_analysis\\data\\match_jsons\\319132_match_jsons.json\n",
      "2022-06-16 23:43:27,498 - INFO - Loading data from d:\\Documents\\Cricket\\data_analysis\\cricket_data_analysis\\data\\htmls\\319132_html.html\n",
      "2022-06-16 23:43:27,781 - INFO - Match ID 319132: Loading match comms\n",
      "2022-06-16 23:43:27,783 - INFO - Loading data from d:\\Documents\\Cricket\\data_analysis\\cricket_data_analysis\\data\\full_comms\\319132_full_comms.json\n",
      "2022-06-16 23:43:27,853 - INFO - Pre-transforming match commentary for 319132\n",
      "2022-06-16 23:43:27,887 - INFO - 319132: Processing text commentary fields\n",
      "2022-06-16 23:43:28,212 - INFO - 319132: Processing bowler runs\n",
      "d:\\Documents\\Cricket\\data_analysis\\cricket_data_analysis\\codebase\\analysis_functions.py:309: FutureWarning: Dropping of nuisance columns in DataFrame reductions (with 'numeric_only=None') is deprecated; in a future version this will raise TypeError.  Select only valid columns before calling the reduction.\n",
      "  batting_df_agg = batting_df[batting_df.batsmanPlayerId == player_id].sum()\n",
      "2022-06-16 23:43:28,272 - INFO - Getting player controbutions for match 319133\n",
      "2022-06-16 23:43:28,273 - INFO - Loading data from d:\\Documents\\Cricket\\data_analysis\\cricket_data_analysis\\data\\match_jsons\\319133_match_jsons.json\n",
      "2022-06-16 23:43:28,278 - INFO - Loading data from d:\\Documents\\Cricket\\data_analysis\\cricket_data_analysis\\data\\htmls\\319133_html.html\n",
      "2022-06-16 23:43:28,432 - INFO - Match ID 319133: Loading match comms\n",
      "2022-06-16 23:43:28,435 - INFO - Loading data from d:\\Documents\\Cricket\\data_analysis\\cricket_data_analysis\\data\\full_comms\\319133_full_comms.json\n",
      "2022-06-16 23:43:28,480 - INFO - Pre-transforming match commentary for 319133\n",
      "2022-06-16 23:43:28,517 - INFO - 319133: Processing text commentary fields\n",
      "2022-06-16 23:43:28,902 - INFO - 319133: Processing bowler runs\n",
      "d:\\Documents\\Cricket\\data_analysis\\cricket_data_analysis\\codebase\\analysis_functions.py:309: FutureWarning: Dropping of nuisance columns in DataFrame reductions (with 'numeric_only=None') is deprecated; in a future version this will raise TypeError.  Select only valid columns before calling the reduction.\n",
      "  batting_df_agg = batting_df[batting_df.batsmanPlayerId == player_id].sum()\n",
      "2022-06-16 23:43:28,941 - INFO - Getting player controbutions for match 343729\n",
      "2022-06-16 23:43:28,943 - INFO - Loading data from d:\\Documents\\Cricket\\data_analysis\\cricket_data_analysis\\data\\match_jsons\\343729_match_jsons.json\n",
      "2022-06-16 23:43:28,949 - INFO - Loading data from d:\\Documents\\Cricket\\data_analysis\\cricket_data_analysis\\data\\htmls\\343729_html.html\n",
      "2022-06-16 23:43:29,075 - INFO - Match ID 343729: Loading match comms\n",
      "2022-06-16 23:43:29,077 - INFO - Loading data from d:\\Documents\\Cricket\\data_analysis\\cricket_data_analysis\\data\\full_comms\\343729_full_comms.json\n",
      "2022-06-16 23:43:29,126 - INFO - Pre-transforming match commentary for 343729\n",
      "2022-06-16 23:43:29,152 - INFO - 343729: Processing text commentary fields\n",
      "2022-06-16 23:43:29,425 - INFO - 343729: Processing bowler runs\n",
      "d:\\Documents\\Cricket\\data_analysis\\cricket_data_analysis\\codebase\\analysis_functions.py:309: FutureWarning: Dropping of nuisance columns in DataFrame reductions (with 'numeric_only=None') is deprecated; in a future version this will raise TypeError.  Select only valid columns before calling the reduction.\n",
      "  batting_df_agg = batting_df[batting_df.batsmanPlayerId == player_id].sum()\n",
      "2022-06-16 23:43:29,474 - INFO - Getting player controbutions for match 343730\n",
      "2022-06-16 23:43:29,476 - INFO - Loading data from d:\\Documents\\Cricket\\data_analysis\\cricket_data_analysis\\data\\match_jsons\\343730_match_jsons.json\n",
      "2022-06-16 23:43:29,481 - INFO - Loading data from d:\\Documents\\Cricket\\data_analysis\\cricket_data_analysis\\data\\htmls\\343730_html.html\n",
      "2022-06-16 23:43:29,654 - INFO - Match ID 343730: Loading match comms\n",
      "2022-06-16 23:43:29,656 - INFO - Loading data from d:\\Documents\\Cricket\\data_analysis\\cricket_data_analysis\\data\\full_comms\\343730_full_comms.json\n",
      "2022-06-16 23:43:29,868 - INFO - Pre-transforming match commentary for 343730\n",
      "2022-06-16 23:43:29,889 - INFO - 343730: Processing text commentary fields\n",
      "2022-06-16 23:43:30,259 - INFO - 343730: Processing bowler runs\n",
      "d:\\Documents\\Cricket\\data_analysis\\cricket_data_analysis\\codebase\\analysis_functions.py:309: FutureWarning: Dropping of nuisance columns in DataFrame reductions (with 'numeric_only=None') is deprecated; in a future version this will raise TypeError.  Select only valid columns before calling the reduction.\n",
      "  batting_df_agg = batting_df[batting_df.batsmanPlayerId == player_id].sum()\n",
      "2022-06-16 23:43:30,303 - INFO - Getting player controbutions for match 343731\n",
      "2022-06-16 23:43:30,305 - INFO - Loading data from d:\\Documents\\Cricket\\data_analysis\\cricket_data_analysis\\data\\match_jsons\\343731_match_jsons.json\n",
      "2022-06-16 23:43:30,312 - INFO - Loading data from d:\\Documents\\Cricket\\data_analysis\\cricket_data_analysis\\data\\htmls\\343731_html.html\n",
      "2022-06-16 23:43:30,472 - INFO - Match ID 343731: Loading match comms\n",
      "2022-06-16 23:43:30,474 - INFO - Loading data from d:\\Documents\\Cricket\\data_analysis\\cricket_data_analysis\\data\\full_comms\\343731_full_comms.json\n",
      "2022-06-16 23:43:30,528 - INFO - Pre-transforming match commentary for 343731\n",
      "2022-06-16 23:43:30,555 - INFO - 343731: Processing text commentary fields\n",
      "2022-06-16 23:43:30,968 - INFO - 343731: Processing bowler runs\n",
      "d:\\Documents\\Cricket\\data_analysis\\cricket_data_analysis\\codebase\\analysis_functions.py:309: FutureWarning: Dropping of nuisance columns in DataFrame reductions (with 'numeric_only=None') is deprecated; in a future version this will raise TypeError.  Select only valid columns before calling the reduction.\n",
      "  batting_df_agg = batting_df[batting_df.batsmanPlayerId == player_id].sum()\n",
      "2022-06-16 23:43:31,060 - INFO - Calculating running average for 50710\n",
      "2022-06-16 23:43:31,067 - INFO - Calculating recent form average with window size 12 for 50710\n",
      "2022-06-16 23:43:31,073 - INFO - Plotting career batting summary\n"
     ]
    },
    {
     "data": {
      "image/png": "[encoded data removed]",
      "text/plain": [
       "<Figure size 1296x720 with 2 Axes>"
      ]
     },
     "metadata": {
      "needs_background": "light"
     },
     "output_type": "display_data"
    }
   ],
   "source": [
    "af.get_career_batting_graph(50710, player_age='30:31')"
   ]
  },
  {
   "cell_type": "code",
   "execution_count": null,
   "metadata": {},
   "outputs": [],
   "source": []
  }
 ],
 "metadata": {
  "kernelspec": {
   "display_name": "Python 3.10.1 (conda)",
   "language": "python",
   "name": "python3"
  },
  "language_info": {
   "codemirror_mode": {
    "name": "ipython",
    "version": 3
   },
   "file_extension": ".py",
   "mimetype": "text/x-python",
   "name": "python",
   "nbconvert_exporter": "python",
   "pygments_lexer": "ipython3",
   "version": "3.10.1"
  },
  "orig_nbformat": 4,
  "vscode": {
   "interpreter": {
    "hash": "456b6b94ba0d66ee5bc1d9da3e6e95c84e73f1e1d031ff65315bb403f464dfac"
   }
  }
 },
 "nbformat": 4,
 "nbformat_minor": 2
}
